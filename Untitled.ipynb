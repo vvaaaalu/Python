{
 "cells": [
  {
   "cell_type": "code",
   "execution_count": 6,
   "metadata": {},
   "outputs": [],
   "source": [
    "#Web Scrapper\n",
    "import requests\n",
    "from bs4 import BeautifulSoup"
   ]
  },
  {
   "cell_type": "code",
   "execution_count": 8,
   "metadata": {},
   "outputs": [],
   "source": [
    "indeed_result = requests.get(\n",
    "\"https://www.indeed.com/jobs?q=python&limit=50\"\n",
    ")\n",
    "\n",
    "indeed_soup = BeautifulSoup(indeed_result.text, \"html.parser\")\n",
    "\n",
    "pagination = indeed_soup.find(\"div\", {\"class\":\"pagination\"})\n",
    "\n",
    "links = pagination.find_all('a')\n",
    "pages = []\n",
    "for link in links[:-1]:\n",
    "    pages.append(int(link.string))\n",
    "\n",
    "max=pages[-1]"
   ]
  },
  {
   "cell_type": "code",
   "execution_count": null,
   "metadata": {},
   "outputs": [],
   "source": []
  }
 ],
 "metadata": {
  "kernelspec": {
   "display_name": "Python 3",
   "language": "python",
   "name": "python3"
  },
  "language_info": {
   "codemirror_mode": {
    "name": "ipython",
    "version": 3
   },
   "file_extension": ".py",
   "mimetype": "text/x-python",
   "name": "python",
   "nbconvert_exporter": "python",
   "pygments_lexer": "ipython3",
   "version": "3.7.6"
  }
 },
 "nbformat": 4,
 "nbformat_minor": 4
}
