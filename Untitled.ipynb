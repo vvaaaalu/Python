{
 "cells": [
  {
   "cell_type": "code",
   "execution_count": 6,
   "metadata": {},
   "outputs": [],
   "source": [
    "#Web Scrapper\n",
    "import requests\n",
    "from bs4 import BeautifulSoup"
   ]
  },
  {
   "cell_type": "code",
   "execution_count": 21,
   "metadata": {},
   "outputs": [
    {
     "name": "stdout",
     "output_type": "stream",
     "text": [
      "start=0\n",
      "start=50\n",
      "start=100\n",
      "start=150\n",
      "start=200\n",
      "start=250\n",
      "start=300\n",
      "start=350\n",
      "start=400\n",
      "start=450\n",
      "start=500\n",
      "start=550\n",
      "start=600\n",
      "start=650\n",
      "start=700\n",
      "start=750\n",
      "start=800\n",
      "start=850\n",
      "start=900\n",
      "start=950\n"
     ]
    },
    {
     "ename": "NameError",
     "evalue": "name 'LIMIT' is not defined",
     "output_type": "error",
     "traceback": [
      "\u001b[1;31m---------------------------------------------------------------------------\u001b[0m",
      "\u001b[1;31mNameError\u001b[0m                                 Traceback (most recent call last)",
      "\u001b[1;32m<ipython-input-21-1a1fdfff4cd8>\u001b[0m in \u001b[0;36m<module>\u001b[1;34m\u001b[0m\n\u001b[0;32m     30\u001b[0m \u001b[1;33m\u001b[0m\u001b[0m\n\u001b[0;32m     31\u001b[0m \u001b[0mlast_indeed_page\u001b[0m\u001b[1;33m=\u001b[0m\u001b[0mextract_indeed_pages\u001b[0m\u001b[1;33m(\u001b[0m\u001b[1;33m)\u001b[0m\u001b[1;33m\u001b[0m\u001b[1;33m\u001b[0m\u001b[0m\n\u001b[1;32m---> 32\u001b[1;33m \u001b[0mindeed_jobs\u001b[0m\u001b[1;33m=\u001b[0m\u001b[0mextract_indeed_jobs\u001b[0m\u001b[1;33m(\u001b[0m\u001b[0mlast_indeed_page\u001b[0m\u001b[1;33m)\u001b[0m\u001b[1;33m\u001b[0m\u001b[1;33m\u001b[0m\u001b[0m\n\u001b[0m",
      "\u001b[1;32m<ipython-input-21-1a1fdfff4cd8>\u001b[0m in \u001b[0;36mextract_indeed_jobs\u001b[1;34m(last_page)\u001b[0m\n\u001b[0;32m     22\u001b[0m     \u001b[0mjobs\u001b[0m\u001b[1;33m=\u001b[0m\u001b[1;33m[\u001b[0m\u001b[1;33m]\u001b[0m\u001b[1;33m\u001b[0m\u001b[1;33m\u001b[0m\u001b[0m\n\u001b[0;32m     23\u001b[0m     \u001b[1;31m#for page in range(last_page):\u001b[0m\u001b[1;33m\u001b[0m\u001b[1;33m\u001b[0m\u001b[1;33m\u001b[0m\u001b[0m\n\u001b[1;32m---> 24\u001b[1;33m     \u001b[0mresult\u001b[0m \u001b[1;33m=\u001b[0m \u001b[0mrequests\u001b[0m\u001b[1;33m.\u001b[0m\u001b[0mget\u001b[0m\u001b[1;33m(\u001b[0m\u001b[1;34mf\"{URL}&start={0*LIMIT}\"\u001b[0m\u001b[1;33m)\u001b[0m\u001b[1;33m\u001b[0m\u001b[1;33m\u001b[0m\u001b[0m\n\u001b[0m\u001b[0;32m     25\u001b[0m     \u001b[0msoup\u001b[0m \u001b[1;33m=\u001b[0m \u001b[0mBeautifulSoup\u001b[0m\u001b[1;33m(\u001b[0m\u001b[0mresult\u001b[0m\u001b[1;33m.\u001b[0m\u001b[0mtext\u001b[0m\u001b[1;33m,\u001b[0m \u001b[1;34m\"html.parser\"\u001b[0m\u001b[1;33m)\u001b[0m\u001b[1;33m\u001b[0m\u001b[1;33m\u001b[0m\u001b[0m\n\u001b[0;32m     26\u001b[0m     \u001b[0mresluts\u001b[0m\u001b[1;33m=\u001b[0m\u001b[0msoup\u001b[0m\u001b[1;33m.\u001b[0m\u001b[0mfind_all\u001b[0m\u001b[1;33m(\u001b[0m\u001b[1;34m\"div\"\u001b[0m\u001b[1;33m,\u001b[0m \u001b[1;33m{\u001b[0m\u001b[1;34m\"class\"\u001b[0m\u001b[1;33m:\u001b[0m\u001b[1;34m\"jobsearch-SerpJobCard\"\u001b[0m\u001b[1;33m}\u001b[0m\u001b[1;33m)\u001b[0m\u001b[1;33m\u001b[0m\u001b[1;33m\u001b[0m\u001b[0m\n",
      "\u001b[1;31mNameError\u001b[0m: name 'LIMIT' is not defined"
     ]
    }
   ],
   "source": [
    "#definition\n",
    "URL=\"https://www.indeed.com/jobs?q=python&limit=50\"\n",
    "def extract_indeed_pages():\n",
    "    indeed_result = requests.get(\n",
    "    \"https://www.indeed.com/jobs?q=python&limit=50\")\n",
    "\n",
    "indeed_soup = BeautifulSoup(indeed_result.text, \"html.parser\")\n",
    "\n",
    "pagination = indeed_soup.find(\"div\", {\"class\":\"pagination\"})\n",
    "\n",
    "links = pagination.find_all('a')\n",
    "pages = []\n",
    "for link in links[:-1]:\n",
    "    pages.append(int(link.string))\n",
    "\n",
    "max=pages[-1]\n",
    "\n",
    "for n in range(max):\n",
    "    print(f\"start={n*50}\")\n",
    "\n",
    "def extract_indeed_jobs(last_page):\n",
    "    jobs=[]\n",
    "    #for page in range(last_page):\n",
    "    result = requests.get(f\"{URL}&start={0*LIMIT}\")\n",
    "    soup = BeautifulSoup(result.text, \"html.parser\")\n",
    "    resluts=soup.find_all(\"div\", {\"class\":\"jobsearch-SerpJobCard\"})\n",
    "    for result in results:\n",
    "        title = result.find(\"div\", {\"class\":\"title\"}).find(\"a\")[\"title\"]\n",
    "    return jobs\n",
    "    \n",
    "last_indeed_page=extract_indeed_pages()\n",
    "indeed_jobs=extract_indeed_jobs(last_indeed_page)\n"
   ]
  },
  {
   "cell_type": "code",
   "execution_count": null,
   "metadata": {},
   "outputs": [],
   "source": []
  },
  {
   "cell_type": "code",
   "execution_count": null,
   "metadata": {},
   "outputs": [],
   "source": []
  }
 ],
 "metadata": {
  "kernelspec": {
   "display_name": "Python 3",
   "language": "python",
   "name": "python3"
  },
  "language_info": {
   "codemirror_mode": {
    "name": "ipython",
    "version": 3
   },
   "file_extension": ".py",
   "mimetype": "text/x-python",
   "name": "python",
   "nbconvert_exporter": "python",
   "pygments_lexer": "ipython3",
   "version": "3.7.6"
  }
 },
 "nbformat": 4,
 "nbformat_minor": 4
}
