{
 "cells": [
  {
   "cell_type": "code",
   "execution_count": 1,
   "metadata": {},
   "outputs": [
    {
     "name": "stdout",
     "output_type": "stream",
     "text": [
      "5\n",
      "4\n",
      "3\n",
      "2\n",
      "1\n",
      "Blastoff!\n"
     ]
    }
   ],
   "source": [
    "for i in [5,4,3,2,1]:\n",
    "    print(i)\n",
    "print('Blastoff!')"
   ]
  },
  {
   "cell_type": "code",
   "execution_count": 2,
   "metadata": {},
   "outputs": [
    {
     "name": "stdout",
     "output_type": "stream",
     "text": [
      "for Happy K&J\n",
      "for Happy Korea\n",
      "for Happy H&Y\n",
      "NODE!\n"
     ]
    }
   ],
   "source": [
    "fr=['K&J', 'Korea', 'H&Y']\n",
    "for hello in fr:\n",
    "    print('for Happy', hello)\n",
    "print(\"NODE!\")\n"
   ]
  },
  {
   "cell_type": "code",
   "execution_count": 7,
   "metadata": {},
   "outputs": [
    {
     "name": "stdout",
     "output_type": "stream",
     "text": [
      "Before -1\n",
      "largest_so_far 9 current number: 9\n",
      "largest_so_far 41 current number: 41\n",
      "largest_so_far 41 current number: 12\n",
      "largest_so_far 41 current number: 3\n",
      "largest_so_far 74 current number: 74\n",
      "largest_so_far 74 current number: 15\n"
     ]
    }
   ],
   "source": [
    "largest_so_far=-1\n",
    "print('Before', largest_so_far)\n",
    "numbers=[9,41,12,3,74,15]\n",
    "for the_num in numbers:\n",
    "    if the_num > largest_so_far:\n",
    "        largest_so_far=the_num\n",
    "    print('largest_so_far', largest_so_far, 'current number:',the_num)"
   ]
  },
  {
   "cell_type": "code",
   "execution_count": null,
   "metadata": {},
   "outputs": [],
   "source": []
  }
 ],
 "metadata": {
  "kernelspec": {
   "display_name": "Python 3",
   "language": "python",
   "name": "python3"
  },
  "language_info": {
   "codemirror_mode": {
    "name": "ipython",
    "version": 3
   },
   "file_extension": ".py",
   "mimetype": "text/x-python",
   "name": "python",
   "nbconvert_exporter": "python",
   "pygments_lexer": "ipython3",
   "version": "3.7.6"
  }
 },
 "nbformat": 4,
 "nbformat_minor": 4
}
